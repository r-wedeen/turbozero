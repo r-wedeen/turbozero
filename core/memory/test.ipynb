{
 "cells": [
  {
   "cell_type": "code",
   "execution_count": 13,
   "metadata": {},
   "outputs": [],
   "source": [
    "import jax\n",
    "import jax.numpy as jnp\n",
    "\n",
    "def assign_returns():\n",
    "    batch_size = 3\n",
    "    capacity = 5\n",
    "    gamma = 1\n",
    "    start_idx = jnp.array([4, 1, 0])\n",
    "    next_idx = jnp.array([3, 2, 4])\n",
    "    reward = jnp.stack([jnp.arange(capacity)]*batch_size)\n",
    "    print(f\"reward: {reward}\")\n",
    "    final_value = 10*jnp.ones(batch_size)\n",
    "    \n",
    "\n",
    "    def roll_row(row, shift):\n",
    "        return jnp.roll(row, shift)\n",
    "    \n",
    "    shift = capacity - next_idx \n",
    "    rewards = jax.vmap(roll_row)(reward, shift)\n",
    "    print(f\"rewards: {rewards}\")\n",
    "    arr = jnp.zeros((batch_size, capacity)).at[:, -1].set(final_value)\n",
    "    print(f\"arr: {arr}\")\n",
    "    mask = jnp.arange(capacity) >= ((start_idx + shift)%capacity)[:, None]\n",
    "    print(f\"mask: {mask}\")\n",
    "    mask_unshifted = jax.vmap(roll_row)(mask, -shift)\n",
    "    print(f\"mask_unshifted: {mask_unshifted}\")\n",
    "\n",
    "    def body_fun(i, arr):\n",
    "        z = mask[:, i] * (gamma * arr[:, i+1] + rewards[:, i+1]) + (1-mask[:, i]) * arr[:, i]\n",
    "        return arr.at[:, i].set(z)\n",
    "    \n",
    "    returns = jax.lax.fori_loop(2, capacity+1, lambda i, x: body_fun(capacity-i, x), arr)\n",
    "    print(f\"shifted returns: {returns}\")\n",
    "    returns = jax.vmap(roll_row)(returns, -shift)\n",
    "\n",
    "    return returns\n",
    "    "
   ]
  },
  {
   "cell_type": "code",
   "execution_count": 14,
   "metadata": {},
   "outputs": [
    {
     "name": "stdout",
     "output_type": "stream",
     "text": [
      "reward: [[0 1 2 3 4]\n",
      " [0 1 2 3 4]\n",
      " [0 1 2 3 4]]\n",
      "rewards: [[3 4 0 1 2]\n",
      " [2 3 4 0 1]\n",
      " [4 0 1 2 3]]\n",
      "arr: [[ 0.  0.  0.  0. 10.]\n",
      " [ 0.  0.  0.  0. 10.]\n",
      " [ 0.  0.  0.  0. 10.]]\n",
      "mask: [[False  True  True  True  True]\n",
      " [False False False False  True]\n",
      " [False  True  True  True  True]]\n",
      "mask_unshifted: [[ True  True  True False  True]\n",
      " [False  True False False False]\n",
      " [ True  True  True  True False]]\n",
      "shifted returns: [[ 0. 13. 13. 12. 10.]\n",
      " [ 0.  0.  0.  0. 10.]\n",
      " [ 0. 16. 15. 13. 10.]]\n"
     ]
    },
    {
     "data": {
      "text/plain": [
       "Array([[13., 12., 10.,  0., 13.],\n",
       "       [ 0., 10.,  0.,  0.,  0.],\n",
       "       [16., 15., 13., 10.,  0.]], dtype=float32)"
      ]
     },
     "execution_count": 14,
     "metadata": {},
     "output_type": "execute_result"
    }
   ],
   "source": [
    "assign_returns()"
   ]
  },
  {
   "cell_type": "code",
   "execution_count": null,
   "metadata": {},
   "outputs": [],
   "source": []
  }
 ],
 "metadata": {
  "kernelspec": {
   "display_name": "turbozero-bwRitMe1-py3.10",
   "language": "python",
   "name": "python3"
  },
  "language_info": {
   "codemirror_mode": {
    "name": "ipython",
    "version": 3
   },
   "file_extension": ".py",
   "mimetype": "text/x-python",
   "name": "python",
   "nbconvert_exporter": "python",
   "pygments_lexer": "ipython3",
   "version": "3.10.11"
  }
 },
 "nbformat": 4,
 "nbformat_minor": 2
}
